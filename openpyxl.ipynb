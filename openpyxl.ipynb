{
  "nbformat": 4,
  "nbformat_minor": 0,
  "metadata": {
    "colab": {
      "name": "openpyxl.ipynb",
      "provenance": [],
      "authorship_tag": "ABX9TyMHSWd7wDguTZaFARxeZ27s",
      "include_colab_link": true
    },
    "kernelspec": {
      "name": "python3",
      "display_name": "Python 3"
    },
    "language_info": {
      "name": "python"
    }
  },
  "cells": [
    {
      "cell_type": "markdown",
      "metadata": {
        "id": "view-in-github",
        "colab_type": "text"
      },
      "source": [
        "<a href=\"https://colab.research.google.com/github/tajamaharu/Data-analysis/blob/main/openpyxl.ipynb\" target=\"_parent\"><img src=\"https://colab.research.google.com/assets/colab-badge.svg\" alt=\"Open In Colab\"/></a>"
      ]
    },
    {
      "cell_type": "code",
      "metadata": {
        "colab": {
          "base_uri": "https://localhost:8080/"
        },
        "id": "XWUz59aNeFJ6",
        "outputId": "799dbee3-e2e5-4c6d-bdd6-8679ef931444"
      },
      "source": [
        "from openpyxl import Workbook\n",
        "wb = Workbook()\n",
        "ws  = wb.active\n",
        "wb.create_sheet( title=\"Sample Sheet\")\n",
        "wb.save(\"sample0.xlsx\")\n",
        "wb.remove(ws)\n",
        "print(wb.sheetnames)"
      ],
      "execution_count": 4,
      "outputs": [
        {
          "output_type": "stream",
          "text": [
            "['Sample Sheet']\n"
          ],
          "name": "stdout"
        }
      ]
    },
    {
      "cell_type": "code",
      "metadata": {
        "id": "fdzqVc5lnNv8"
      },
      "source": [
        "ws1 = wb[\"Sample Sheet\"]\n",
        "c1 =   ws1[\"A1\"]\n",
        "c1.value = \"hello\"\n",
        "wb.save(\"sample1.xlsx\")"
      ],
      "execution_count": 5,
      "outputs": []
    },
    {
      "cell_type": "code",
      "metadata": {
        "id": "7CeViooyoQay"
      },
      "source": [
        "data  =[[1,2,3], [4,5,6], [7,8,9]]\n",
        "for i in range(3):\n",
        "    ws1.append(data[i])\n",
        "wb.save(\"sample2.xlsx\")"
      ],
      "execution_count": 6,
      "outputs": []
    },
    {
      "cell_type": "code",
      "metadata": {
        "colab": {
          "base_uri": "https://localhost:8080/"
        },
        "id": "ouC4-tBmpIVY",
        "outputId": "ea36519e-8301-4c91-8063-b88f05a7e704"
      },
      "source": [
        "print(c1.coordinate)\n",
        "print(c1.row, c1.column, c1.comment ,c1.value )"
      ],
      "execution_count": 17,
      "outputs": [
        {
          "output_type": "stream",
          "text": [
            "A1\n",
            "1 A None hello\n"
          ],
          "name": "stdout"
        }
      ]
    },
    {
      "cell_type": "code",
      "metadata": {
        "colab": {
          "base_uri": "https://localhost:8080/"
        },
        "id": "lVx-VdMFqnJ9",
        "outputId": "569feaaa-ad39-4d21-989a-ff90a8648a49"
      },
      "source": [
        "for row in ws1.rows:\n",
        "    for i in row:\n",
        "        print(i.value, end=\" \")\n",
        "print(\"2行目から\")\n",
        "for row in ws1.iter_rows(min_row=2, min_col=2):\n",
        "    for i in row:\n",
        "        print(i.value, end= \"\")\n",
        "        print()"
      ],
      "execution_count": 21,
      "outputs": [
        {
          "output_type": "stream",
          "text": [
            "hello None None 1 2 3 4 5 6 7 8 9 2行目から\n",
            "2\n",
            "3\n",
            "5\n",
            "6\n",
            "8\n",
            "9\n"
          ],
          "name": "stdout"
        }
      ]
    },
    {
      "cell_type": "code",
      "metadata": {
        "id": "wuRmF2jjrh_c"
      },
      "source": [
        "for row in range(2,5):\n",
        "    cell = ws1.cell(row, 5)\n",
        "    cell.value = f\"= SUM(A{row}:C{row})\"\n",
        "wb.save(\"sample3.xlsx\")\n"
      ],
      "execution_count": 27,
      "outputs": []
    },
    {
      "cell_type": "code",
      "metadata": {
        "id": "_yDFCiIPsie0"
      },
      "source": [
        "import openpyxl\n",
        "wb = openpyxl.load_workbook(\"sample3.xlsx\", data_only= True)"
      ],
      "execution_count": 28,
      "outputs": []
    },
    {
      "cell_type": "code",
      "metadata": {
        "colab": {
          "base_uri": "https://localhost:8080/"
        },
        "id": "b63kbv4Ns_rp",
        "outputId": "7b704bab-e850-4e87-a587-f82271065d62"
      },
      "source": [
        "ws = wb.active\n",
        "for row in ws.iter_rows(min_row=2):\n",
        "    for i in row:\n",
        "        print(i.value, end =\" \")\n",
        "    print()"
      ],
      "execution_count": 29,
      "outputs": [
        {
          "output_type": "stream",
          "text": [
            "1 2 3 \n",
            "4 5 6 \n",
            "7 8 9 \n"
          ],
          "name": "stdout"
        }
      ]
    },
    {
      "cell_type": "code",
      "metadata": {
        "id": "5RL5KfPQtVZ8"
      },
      "source": [
        ""
      ],
      "execution_count": null,
      "outputs": []
    }
  ]
}