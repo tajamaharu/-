{
  "nbformat": 4,
  "nbformat_minor": 0,
  "metadata": {
    "colab": {
      "name": "Requests.ipynb",
      "provenance": [],
      "authorship_tag": "ABX9TyMzY7leLVZdrdVnkLo2+xkI",
      "include_colab_link": true
    },
    "kernelspec": {
      "name": "python3",
      "display_name": "Python 3"
    },
    "language_info": {
      "name": "python"
    }
  },
  "cells": [
    {
      "cell_type": "markdown",
      "metadata": {
        "id": "view-in-github",
        "colab_type": "text"
      },
      "source": [
        "<a href=\"https://colab.research.google.com/github/tajamaharu/Data-analysis/blob/main/Requests.ipynb\" target=\"_parent\"><img src=\"https://colab.research.google.com/assets/colab-badge.svg\" alt=\"Open In Colab\"/></a>"
      ]
    },
    {
      "cell_type": "code",
      "metadata": {
        "id": "6CZb9HNQtplm"
      },
      "source": [
        "import requests\n",
        "response = requests.get('http://router.project-osrm.org/route/v1/driving/139.792429,35.667864;139.768525,35.681010')\n",
        "ret = response.json() #レスポンスをJSON化すると，大学から東京駅までの移動距離が3708メートル，340秒（車で）かかることが分かる．"
      ],
      "execution_count": 1,
      "outputs": []
    },
    {
      "cell_type": "code",
      "metadata": {
        "colab": {
          "base_uri": "https://localhost:8080/"
        },
        "id": "xXZT4f6FuHXc",
        "outputId": "c304892e-834c-4a2b-f7da-288190cd725d"
      },
      "source": [
        "print(response, type(response))\n",
        "ret"
      ],
      "execution_count": 3,
      "outputs": [
        {
          "output_type": "stream",
          "text": [
            "<Response [200]> <class 'requests.models.Response'>\n"
          ],
          "name": "stdout"
        },
        {
          "output_type": "execute_result",
          "data": {
            "text/plain": [
              "{'code': 'Ok',\n",
              " 'routes': [{'distance': 3708.7,\n",
              "   'duration': 340.3,\n",
              "   'geometry': 'ujuxEaeftY{DxEe@k@}@lA}N}RwBgBgGhQaM`RqC`R}Rxa@wIdZlSlKyKt]cAk@e@x@',\n",
              "   'legs': [{'distance': 3708.7,\n",
              "     'duration': 340.3,\n",
              "     'steps': [],\n",
              "     'summary': '',\n",
              "     'weight': 340.3}],\n",
              "   'weight': 340.3,\n",
              "   'weight_name': 'routability'}],\n",
              " 'waypoints': [{'distance': 12.447899,\n",
              "   'hint': 'qIOkg72DpIO2AAAAFAAAAAAAAADRAAAAJbyYQjyT_UAAAAAA8ratQrYAAAAUAAAAAAAAANEAAABNVwAAyQ9VCEs_IAItEFUImD8gAgAAjwgUjHSq',\n",
              "   'location': [139.792329, 35.667787],\n",
              "   'name': ''},\n",
              "  {'distance': 32.443406,\n",
              "   'hint': 'xeWyg____38AAAAAFwAAACUAAAAGAAAAAAAAAIUgGUHOOXJBTx0mQAAAAAAXAAAAJQAAAAYAAABNVwAAF7RUCIByIALNslQI8nIgAgIAzwEUjHSq',\n",
              "   'location': [139.768855, 35.680896],\n",
              "   'name': 'タクシー・一般車降車場(一般車用)'}]}"
            ]
          },
          "metadata": {
            "tags": []
          },
          "execution_count": 3
        }
      ]
    }
  ]
}